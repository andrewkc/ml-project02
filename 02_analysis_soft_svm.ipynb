{
  "cells": [
    {
      "cell_type": "markdown",
      "source": [
        "**PARTE 2**"
      ],
      "metadata": {
        "id": "Ci2DCOGZphzj"
      }
    },
    {
      "cell_type": "markdown",
      "source": [
        "###**Importación de librerias**"
      ],
      "metadata": {
        "id": "qkPgcgnoqXw0"
      }
    },
    {
      "cell_type": "code",
      "execution_count": 34,
      "metadata": {
        "colab": {
          "base_uri": "https://localhost:8080/"
        },
        "id": "goDtbMv1vKAc",
        "outputId": "9612f94e-17f8-4067-ce4e-b525df818a6f"
      },
      "outputs": [
        {
          "output_type": "stream",
          "name": "stdout",
          "text": [
            "Requirement already satisfied: pyts in /usr/local/lib/python3.10/dist-packages (0.13.0)\n",
            "Requirement already satisfied: numpy>=1.22.4 in /usr/local/lib/python3.10/dist-packages (from pyts) (1.25.2)\n",
            "Requirement already satisfied: scipy>=1.8.1 in /usr/local/lib/python3.10/dist-packages (from pyts) (1.11.4)\n",
            "Requirement already satisfied: scikit-learn>=1.2.0 in /usr/local/lib/python3.10/dist-packages (from pyts) (1.2.2)\n",
            "Requirement already satisfied: joblib>=1.1.1 in /usr/local/lib/python3.10/dist-packages (from pyts) (1.4.2)\n",
            "Requirement already satisfied: numba>=0.55.2 in /usr/local/lib/python3.10/dist-packages (from pyts) (0.58.1)\n",
            "Requirement already satisfied: llvmlite<0.42,>=0.41.0dev0 in /usr/local/lib/python3.10/dist-packages (from numba>=0.55.2->pyts) (0.41.1)\n",
            "Requirement already satisfied: threadpoolctl>=2.0.0 in /usr/local/lib/python3.10/dist-packages (from scikit-learn>=1.2.0->pyts) (3.5.0)\n"
          ]
        }
      ],
      "source": [
        "!pip install pyts"
      ]
    },
    {
      "cell_type": "code",
      "execution_count": 35,
      "metadata": {
        "id": "_uMQJxYkj1IF"
      },
      "outputs": [],
      "source": [
        "import pandas as pd\n",
        "import numpy as np\n",
        "import seaborn as sns\n",
        "import h5py\n",
        "from google.colab import drive\n",
        "from pyts.transformation import ShapeletTransform\n",
        "\n",
        "from sklearn.metrics import precision_score, f1_score\n",
        "from sklearn.metrics import classification_report\n",
        "from sklearn.metrics import confusion_matrix\n",
        "from sklearn.pipeline import make_pipeline\n",
        "from sklearn.svm import LinearSVC\n",
        "\n",
        "import matplotlib.pyplot as plt"
      ]
    },
    {
      "cell_type": "code",
      "source": [
        "from google.colab import drive\n",
        "drive.mount('/content/drive')"
      ],
      "metadata": {
        "colab": {
          "base_uri": "https://localhost:8080/"
        },
        "id": "dXdPHqLaprA9",
        "outputId": "163d9fd2-c22a-487a-b11c-5af7980186ff"
      },
      "execution_count": 36,
      "outputs": [
        {
          "output_type": "stream",
          "name": "stdout",
          "text": [
            "Drive already mounted at /content/drive; to attempt to forcibly remount, call drive.mount(\"/content/drive\", force_remount=True).\n"
          ]
        }
      ]
    },
    {
      "cell_type": "code",
      "execution_count": 37,
      "metadata": {
        "colab": {
          "base_uri": "https://localhost:8080/"
        },
        "id": "gKVKcOEYnuS8",
        "outputId": "0a47b3df-d0e6-4826-db3f-83c13d2c97e6"
      },
      "outputs": [
        {
          "output_type": "stream",
          "name": "stdout",
          "text": [
            "Drive already mounted at /content/drive; to attempt to forcibly remount, call drive.mount(\"/content/drive\", force_remount=True).\n"
          ]
        }
      ],
      "source": [
        "drive.mount('/content/drive')\n",
        "path = '/content/drive/MyDrive/UNIVERSIDAD/SEMESTER 06/Machine Learning/P2/'"
      ]
    },
    {
      "cell_type": "markdown",
      "metadata": {
        "id": "iZXMDZxDB9CA"
      },
      "source": [
        "### **Funciones auxiliares**"
      ]
    },
    {
      "cell_type": "code",
      "execution_count": 38,
      "metadata": {
        "id": "7ON7-7fKC-6R"
      },
      "outputs": [],
      "source": [
        "def readH5File(filename):\n",
        "  with h5py.File(path + filename, 'r') as f:\n",
        "    x = f['x'][:]\n",
        "    if 'y' in f:\n",
        "      y = f['y'][:]\n",
        "      return x, y\n",
        "    return x"
      ]
    },
    {
      "cell_type": "code",
      "execution_count": 39,
      "metadata": {
        "id": "Qslwui2GKKkN"
      },
      "outputs": [],
      "source": [
        "def confusionMatrix(y_pred, y_test, type_label):\n",
        "  labels = ['no predisposition to alcoholism', 'predisposition to alcoholism']\n",
        "  matrix = confusion_matrix(y_test, y_pred).astype('float')\n",
        "  matrix = matrix / matrix.sum(axis=1)[:, np.newaxis]\n",
        "  df_matrix = pd.DataFrame(matrix, index=labels, columns=labels)\n",
        "\n",
        "  sns.heatmap(df_matrix, annot=True, cbar=False, cmap=\"Greens\")\n",
        "  plt.title(\"Confusion Matrix \" + type_label)\n",
        "  plt.xlabel(\"Predicted\")\n",
        "  plt.ylabel(\"Actual\")\n",
        "  plt.tight_layout()\n",
        "  plt.show()"
      ]
    },
    {
      "cell_type": "code",
      "execution_count": 40,
      "metadata": {
        "id": "JBpUCyFieyCM"
      },
      "outputs": [],
      "source": [
        "def getMetrics(y_test, y_pred):\n",
        "  targets = ['no predisposition to alcoholism', 'predisposition to alcoholism']\n",
        "\n",
        "  precision = precision_score(y_test, y_pred, average=None)\n",
        "  f1 = f1_score(y_test, y_pred, average=None)\n",
        "\n",
        "  report = classification_report(y_test, y_pred, target_names=targets)\n",
        "  print(\"My Model Metrics:\")\n",
        "  print(report)\n",
        "\n",
        "  results = {}\n",
        "  for i, name in enumerate(targets):\n",
        "    results[name] = {\n",
        "      \"Precision\": precision[i],\n",
        "      \"F1-Score\": f1[i]\n",
        "    }\n",
        "\n",
        "  return results"
      ]
    },
    {
      "cell_type": "markdown",
      "metadata": {
        "id": "RzIis_69HunN"
      },
      "source": [
        "##**5. Modelos**"
      ]
    },
    {
      "cell_type": "markdown",
      "metadata": {
        "id": "mxN1Ir_dH9Dh"
      },
      "source": [
        "----\n",
        "# **5.2. Soft SVM**\n",
        "----"
      ]
    },
    {
      "cell_type": "markdown",
      "source": [
        "El modelo Soft SVM nos permite:\n",
        "\n",
        "* **Clasificar datos no linealmente separables:** Maneja datos que no pueden ser separados perfectamente por un hiperplano lineal mediante la introducción de un margen suave y variables de holgura. Para este proyecto, se probaron varios kernels y el mejor resultado se obtuvo con el kernel lineal.\n",
        "\n",
        "* **Manejar datos con ruido:** Gestiona mejor los conjuntos de datos con ruido o puntos atípicos, evitando el sobreajuste al permitir algunos errores de clasificación.\n",
        "\n",
        "* **Controlar el balance entre margen y error:** El parámetro de regularización **C** ajusta el equilibrio entre maximizar el margen y minimizar el error de clasificación, proporcionando flexibilidad para adaptarse a diferentes conjuntos de datos. Este parámetro **C** fue usado en la función Loss para controlar el segundo terminno y también en la función Derivatives."
      ],
      "metadata": {
        "id": "ZR2uv9KLHvdc"
      }
    },
    {
      "cell_type": "code",
      "execution_count": 41,
      "metadata": {
        "id": "wyylSzoagokW"
      },
      "outputs": [],
      "source": [
        "class SoftSVM:\n",
        "  def __init__(self, alpha, C):\n",
        "    self.alpha = alpha\n",
        "    self.C = C\n",
        "    self.w = None\n",
        "    self.b = None\n",
        "\n",
        "  def H(self, X):\n",
        "    return np.dot(X, self.w.T) + self.b\n",
        "\n",
        "  def Loss(self, y, y_aprox):\n",
        "    return 0.5 * (np.linalg.norm(self.w) ** 2) + self.C * np.sum(np.maximum(0, 1 - y * y_aprox))\n",
        "\n",
        "  def Derivatives(self, X, y, y_aprox):\n",
        "    loss_matrix = 1 - y * y_aprox\n",
        "    dw = self.w + self.C * np.sum(-y[:, np.newaxis] * X * (np.maximum(0, loss_matrix) > 0)[:, np.newaxis], axis=0)\n",
        "    db = self.C * np.sum(-y * (np.maximum(0, loss_matrix) > 0))\n",
        "    return db, dw\n",
        "\n",
        "  def Update(self, dw, db):\n",
        "    self.w = self.w - self.alpha * dw\n",
        "    self.b = self.b - self.alpha * db\n",
        "    return self.w, self.b\n",
        "\n",
        "  def Train(self, X, y, epochs=1000):\n",
        "    num_samples, num_features = X.shape\n",
        "    self.w = np.zeros(num_features)\n",
        "    self.b = 0\n",
        "    error = []\n",
        "\n",
        "    for i in range(epochs):\n",
        "      y_aprox = self.H(X)\n",
        "      db, dw = self.Derivatives(X, y, y_aprox)\n",
        "      self.w, self.b = self.Update(dw, db)\n",
        "      L = self.Loss(y, y_aprox)\n",
        "      error.append(L)\n",
        "    return self.w, self.b, error\n",
        "\n",
        "  def Predict(self, X):\n",
        "    return np.sign(self.H(X))"
      ]
    },
    {
      "cell_type": "markdown",
      "metadata": {
        "id": "98NUY9aZGazB"
      },
      "source": [
        "##Extracting features"
      ]
    },
    {
      "cell_type": "markdown",
      "source": [
        "Para este proyecto, hemos utilizado la técnica ROCKET para extraer características de una serie temporal, principalmente porque no es tan costosa computacionalmente y ofrece buenos resultados en la extracción de características. Cabe resaltar que también hemos probado otras opciones, como el uso de la librería TsFresh y la técnica ShapeletTransform, pero las descartamos por ser muy costosas computacionalmente. Además, probamos la técnica BOOS, pero esta tampoco ofreció resultados satisfactorios."
      ],
      "metadata": {
        "id": "1ERvgYqmR3AF"
      }
    },
    {
      "cell_type": "markdown",
      "metadata": {
        "id": "tK6XqaeEHian"
      },
      "source": [
        "**ROCKET: Random Convolutional Kernel Transform**"
      ]
    },
    {
      "cell_type": "code",
      "source": [
        "from sklearn.preprocessing import StandardScaler\n",
        "from sklearn.model_selection import train_test_split\n",
        "from pyts.transformation import ROCKET"
      ],
      "metadata": {
        "id": "3UT9fCHPeLmS"
      },
      "execution_count": 42,
      "outputs": []
    },
    {
      "cell_type": "markdown",
      "source": [
        "A diferencia de otros métodos de extracción de características que tienen un alto costo computacional, este método nos ofrece una forma más sencilla y menos costosa de obtener características.\n",
        "\n",
        "* Con ROCKET, transformamos las series temporales de entrada para la extracción de características mediante núcleos convolucionales aleatorios.\n",
        "\n",
        "* Las convoluciones implican productos escalares deslizantes entre un núcleo convolucional y una serie temporal de entrada. La salida convolucional refleja la fuerza de la coincidencia entre el núcleo y la serie temporal de entrada en cada momento.\n",
        "\n",
        "* La convolución representa un mecanismo para capturar diversas características en series temporales, lo que es la base de la eficacia de esta técnica.\n",
        "\n",
        "* Esta técnica utiliza más de 10,000 núcleos convolucionales aleatorios, que varían en longitud, peso, sesgo, etc."
      ],
      "metadata": {
        "id": "GQJf0QiEVVa1"
      }
    },
    {
      "cell_type": "code",
      "execution_count": 43,
      "metadata": {
        "id": "XQuOUUPWBYai"
      },
      "outputs": [],
      "source": [
        "X, Y = readH5File('train.h5')\n",
        "X_TEST = readH5File('test.h5')\n",
        "\n",
        "X = X.squeeze(axis=1)\n",
        "X_TEST = X_TEST.squeeze(axis=1)\n",
        "\n",
        "x_train, x_test, y_train, y_test = train_test_split(X, Y, test_size=0.3, random_state=42)"
      ]
    },
    {
      "cell_type": "markdown",
      "source": [
        "Para poder utilizar el Soft SVM, tuvimos que cambiar las etiquetas 0 del array Y a -1. Sin embargo, al final del proceso, revertimos este cambio a sus valores originales."
      ],
      "metadata": {
        "id": "iwjRTH3OUSoH"
      }
    },
    {
      "cell_type": "code",
      "execution_count": 44,
      "metadata": {
        "id": "LMkGOJMnoUjW"
      },
      "outputs": [],
      "source": [
        "scaler = StandardScaler()\n",
        "x_train_normalized = scaler.fit_transform(x_train)\n",
        "x_test_normalized = scaler.fit_transform(x_test)\n",
        "y_train_transformed = np.where(y_train == 0, -1, 1) # changed 0s to -1s\n",
        "y_test_transformed = np.where(y_test == 0, -1, 1) # changed 0s to -1s"
      ]
    },
    {
      "cell_type": "markdown",
      "source": [
        "**Aplicamos ROCKET**"
      ],
      "metadata": {
        "id": "Z9KvHkDwKr3G"
      }
    },
    {
      "cell_type": "code",
      "execution_count": 45,
      "metadata": {
        "id": "ZtW5j-GGHkQZ"
      },
      "outputs": [],
      "source": [
        "rocket = ROCKET()\n",
        "rocket.fit(x_train_normalized)\n",
        "x_train_transformed = rocket.transform(x_train_normalized)\n",
        "x_test_transformed = rocket.transform(x_test_normalized)"
      ]
    },
    {
      "cell_type": "markdown",
      "source": [
        "**El parámetro alpha en la clase SoftSVM es la tasa de aprendizaje, un hiperparámetro que controla la magnitud de los ajustes realizados en los pesos (w) y el sesgo (b) durante el proceso de optimización. En el método Update, alpha se multiplica con los gradientes (dw y db) para actualizar los parámetros del modelo, determinando cuánto cambian estos parámetros en cada iteración del entrenamiento.**\n",
        "\n",
        "**Por otro lado, C es el parámetro de penalización, también conocido como regularización. Controla la importancia de penalizar los errores de clasificación, permitiendo que el SVM maneje datos no linealmente separables. Este parámetro es usado en el cálculo de la pérdida (Loss) y las derivadas (Derivatives).**"
      ],
      "metadata": {
        "id": "h5HxBOHfCi-f"
      }
    },
    {
      "cell_type": "code",
      "source": [
        "svm = SoftSVM(alpha=0.00014, C=1e-3) #C=1e-3"
      ],
      "metadata": {
        "id": "tLyZFfeyoKQ_"
      },
      "execution_count": 46,
      "outputs": []
    },
    {
      "cell_type": "code",
      "execution_count": 47,
      "metadata": {
        "id": "IE0QcWS0JVI4"
      },
      "outputs": [],
      "source": [
        "W, b, err = svm.Train(x_train_transformed, y_train_transformed, epochs=1200) #1200"
      ]
    },
    {
      "cell_type": "code",
      "execution_count": 48,
      "metadata": {
        "id": "oPpVk2NQRDX9"
      },
      "outputs": [],
      "source": [
        "y_pred = svm.Predict(x_test_transformed)"
      ]
    },
    {
      "cell_type": "code",
      "execution_count": 49,
      "metadata": {
        "colab": {
          "base_uri": "https://localhost:8080/"
        },
        "id": "AsDoGeKUhiPB",
        "outputId": "35fd3621-61ee-49cf-b473-405e6603486d"
      },
      "outputs": [
        {
          "output_type": "stream",
          "name": "stdout",
          "text": [
            "[ 1.  1.  1.  1.  1.  1.  1.  1. -1. -1. -1. -1.  1. -1. -1.  1. -1. -1.\n",
            "  1. -1.  1. -1. -1. -1. -1.  1.  1. -1. -1. -1. -1. -1. -1. -1. -1. -1.\n",
            "  1.  1.  1.  1. -1. -1. -1.  1. -1. -1.  1.  1.  1.  1. -1. -1.  1.  1.\n",
            "  1.  1.  1. -1. -1. -1. -1. -1.] [ 1 -1 -1 -1  1  1  1  1 -1 -1 -1 -1 -1 -1  1 -1 -1 -1 -1  1 -1 -1 -1  1\n",
            " -1 -1 -1 -1 -1 -1 -1 -1 -1 -1 -1 -1 -1  1  1 -1  1 -1 -1 -1 -1 -1 -1 -1\n",
            " -1 -1 -1 -1  1  1  1  1 -1 -1  1 -1 -1 -1]\n",
            "[ 0.00058055 -0.00023701 -0.00071201 ... -0.00010886  0.00079703\n",
            " -0.00022406] -0.00024962000000000427 0.062320361492295764\n"
          ]
        }
      ],
      "source": [
        "print(y_pred, y_test_transformed)\n",
        "print(W, b, err[-1])"
      ]
    },
    {
      "cell_type": "markdown",
      "metadata": {
        "id": "fNcD2b4ILNwe"
      },
      "source": [
        "##Classification Metrics"
      ]
    },
    {
      "cell_type": "code",
      "execution_count": 50,
      "metadata": {
        "colab": {
          "base_uri": "https://localhost:8080/",
          "height": 487
        },
        "id": "B2mgh2b_xT5g",
        "outputId": "9acd72f5-30fb-4722-ffa1-ea78b2860871"
      },
      "outputs": [
        {
          "output_type": "display_data",
          "data": {
            "text/plain": [
              "<Figure size 640x480 with 1 Axes>"
            ],
            "image/png": "[encoded data removed]"
          },
          "metadata": {}
        }
      ],
      "source": [
        "confusionMatrix(y_pred, y_test_transformed, type_label='')"
      ]
    },
    {
      "cell_type": "code",
      "execution_count": 51,
      "metadata": {
        "colab": {
          "base_uri": "https://localhost:8080/"
        },
        "id": "PcXh9HQoLT7z",
        "outputId": "9c4e8333-fa85-4461-fe80-0c9589d305a9"
      },
      "outputs": [
        {
          "output_type": "stream",
          "name": "stdout",
          "text": [
            "My Model Metrics:\n",
            "                                 precision    recall  f1-score   support\n",
            "\n",
            "no predisposition to alcoholism       0.85      0.63      0.72        46\n",
            "   predisposition to alcoholism       0.39      0.69      0.50        16\n",
            "\n",
            "                       accuracy                           0.65        62\n",
            "                      macro avg       0.62      0.66      0.61        62\n",
            "                   weighted avg       0.73      0.65      0.67        62\n",
            "\n"
          ]
        }
      ],
      "source": [
        "results = getMetrics(y_test_transformed, y_pred)"
      ]
    },
    {
      "cell_type": "markdown",
      "metadata": {
        "id": "FuHSaRGTKIDB"
      },
      "source": [
        "**Prediction File for Kaggle**"
      ]
    },
    {
      "cell_type": "code",
      "execution_count": null,
      "metadata": {
        "id": "ur-xr7cq5RjM"
      },
      "outputs": [],
      "source": [
        "import pandas as pd\n",
        "\n",
        "X_TEST_NORMALIZED = scaler.fit_transform(X_TEST)\n",
        "X_TEST_TRANSFORMED = rocket.transform(X_TEST_NORMALIZED)\n",
        "Y_PRED = svm.Predict(X_TEST_TRANSFORMED)\n",
        "Y_PRED[Y_PRED == -1] = 0\n",
        "\n",
        "df = pd.DataFrame({'ID': range(1, len(Y_PRED) + 1), 'result': Y_PRED.astype(int)})\n",
        "df.to_csv('prediction.csv', index=False)"
      ]
    }
  ],
  "metadata": {
    "colab": {
      "provenance": []
    },
    "kernelspec": {
      "display_name": "Python 3",
      "name": "python3"
    },
    "language_info": {
      "name": "python"
    }
  },
  "nbformat": 4,
  "nbformat_minor": 0
}