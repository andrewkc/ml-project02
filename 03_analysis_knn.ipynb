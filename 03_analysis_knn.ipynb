{
  "cells": [
    {
      "cell_type": "markdown",
      "source": [
        "**PARTE 3**"
      ],
      "metadata": {
        "id": "JnPb4P4ur7fX"
      }
    },
    {
      "cell_type": "markdown",
      "metadata": {
        "id": "DQQ0XkUXIXro"
      },
      "source": [
        "---\n",
        "# **KNN**\n",
        "---\n"
      ]
    },
    {
      "cell_type": "code",
      "execution_count": null,
      "metadata": {
        "colab": {
          "base_uri": "https://localhost:8080/"
        },
        "id": "xfyc43Sf6_ZL",
        "outputId": "40202399-1ab6-4cff-9aed-12c7ea387f7b"
      },
      "outputs": [
        {
          "output_type": "stream",
          "name": "stdout",
          "text": [
            "Requirement already satisfied: pyts in /usr/local/lib/python3.10/dist-packages (0.13.0)\n",
            "Requirement already satisfied: numpy>=1.22.4 in /usr/local/lib/python3.10/dist-packages (from pyts) (1.25.2)\n",
            "Requirement already satisfied: scipy>=1.8.1 in /usr/local/lib/python3.10/dist-packages (from pyts) (1.11.4)\n",
            "Requirement already satisfied: scikit-learn>=1.2.0 in /usr/local/lib/python3.10/dist-packages (from pyts) (1.2.2)\n",
            "Requirement already satisfied: joblib>=1.1.1 in /usr/local/lib/python3.10/dist-packages (from pyts) (1.4.2)\n",
            "Requirement already satisfied: numba>=0.55.2 in /usr/local/lib/python3.10/dist-packages (from pyts) (0.58.1)\n",
            "Requirement already satisfied: llvmlite<0.42,>=0.41.0dev0 in /usr/local/lib/python3.10/dist-packages (from numba>=0.55.2->pyts) (0.41.1)\n",
            "Requirement already satisfied: threadpoolctl>=2.0.0 in /usr/local/lib/python3.10/dist-packages (from scikit-learn>=1.2.0->pyts) (3.5.0)\n"
          ]
        }
      ],
      "source": [
        "!pip install pyts"
      ]
    },
    {
      "cell_type": "code",
      "execution_count": null,
      "metadata": {
        "id": "_uMQJxYkj1IF"
      },
      "outputs": [],
      "source": [
        "import pandas as pd\n",
        "import numpy as np\n",
        "import seaborn as sns\n",
        "import h5py\n",
        "\n",
        "from google.colab import drive\n",
        "from pyts.transformation import ShapeletTransform\n",
        "from sklearn.pipeline import make_pipeline\n",
        "from sklearn.svm import LinearSVC\n",
        "import matplotlib.pyplot as plt\n",
        "from sklearn.preprocessing import StandardScaler\n",
        "from sklearn.model_selection import train_test_split\n",
        "from sklearn.metrics import confusion_matrix, classification_report, precision_score, f1_score, accuracy_score\n",
        "from pyts.transformation import ROCKET"
      ]
    },
    {
      "cell_type": "code",
      "execution_count": null,
      "metadata": {
        "colab": {
          "base_uri": "https://localhost:8080/"
        },
        "id": "dXdPHqLaprA9",
        "outputId": "4ab2f94a-ebe9-49a4-ce96-d0788df422c2"
      },
      "outputs": [
        {
          "output_type": "stream",
          "name": "stdout",
          "text": [
            "Mounted at /content/drive\n"
          ]
        }
      ],
      "source": [
        "from google.colab import drive\n",
        "drive.mount('/content/drive')"
      ]
    },
    {
      "cell_type": "code",
      "execution_count": null,
      "metadata": {
        "colab": {
          "base_uri": "https://localhost:8080/"
        },
        "id": "gKVKcOEYnuS8",
        "outputId": "08519b82-d266-47c8-e108-7b952977ac07"
      },
      "outputs": [
        {
          "output_type": "stream",
          "name": "stdout",
          "text": [
            "Drive already mounted at /content/drive; to attempt to forcibly remount, call drive.mount(\"/content/drive\", force_remount=True).\n"
          ]
        }
      ],
      "source": [
        "drive.mount('/content/drive')\n",
        "path = '/content/drive/MyDrive/ML/G6_Project2/'"
      ]
    },
    {
      "cell_type": "markdown",
      "metadata": {
        "id": "RzIis_69HunN"
      },
      "source": [
        "#5. Models"
      ]
    },
    {
      "cell_type": "markdown",
      "source": [
        "-----\n",
        "# **5.3 KNN**\n",
        "-----"
      ],
      "metadata": {
        "id": "O_XimAyURq1W"
      }
    },
    {
      "cell_type": "code",
      "execution_count": null,
      "metadata": {
        "id": "VzaxIsggFnIu"
      },
      "outputs": [],
      "source": [
        "\n",
        "class KNN:\n",
        "    def __init__(self, k=5):\n",
        "        self.k = k\n",
        "        self.X_train = None\n",
        "        self.y_train = None\n",
        "\n",
        "    def fit(self, X, y):\n",
        "        self.X_train = X\n",
        "        self.y_train = y\n",
        "\n",
        "    def euclidean_distance(self, a, b):\n",
        "        return np.sqrt(np.sum((a - b) ** 2))\n",
        "\n",
        "    def predict(self, X):\n",
        "        y_pred = []\n",
        "        for x in X:\n",
        "            distances = np.array([self.euclidean_distance(x, x_train) for x_train in self.X_train])\n",
        "            k_indices = distances.argsort()[:self.k]\n",
        "            k_nearest_labels = [self.y_train[i] for i in k_indices]\n",
        "\n",
        "\n",
        "            label_weights = {}\n",
        "            for i, index in enumerate(k_indices):\n",
        "                label = self.y_train[index]\n",
        "                weight = 1 / (distances[index] + 1e-5)\n",
        "                if label in label_weights:\n",
        "                    label_weights[label] += weight\n",
        "                else:\n",
        "                    label_weights[label] = weight\n",
        "\n",
        "            most_common = max(label_weights, key=label_weights.get)\n",
        "            y_pred.append(most_common)\n",
        "        return np.array(y_pred)\n"
      ]
    },
    {
      "cell_type": "markdown",
      "metadata": {
        "id": "iZXMDZxDB9CA"
      },
      "source": [
        "##**Data**"
      ]
    },
    {
      "cell_type": "markdown",
      "source": [
        "**Esta función abre un archivos h5 y lee los datos etiquetados como 'x'. Si el archivo también contiene datos etiquetados como 'y', los lee opcionalmente. Luego, la función devuelve estos datos.**"
      ],
      "metadata": {
        "id": "4IKIKkM2Q5xZ"
      }
    },
    {
      "cell_type": "code",
      "source": [
        "def readH5File(filename):\n",
        "  with h5py.File(path + filename, 'r') as f:\n",
        "    x = f['x'][:]\n",
        "    if 'y' in f:\n",
        "      y = f['y'][:]\n",
        "      return x, y"
      ],
      "metadata": {
        "id": "JuSoOB5rQvln"
      },
      "execution_count": null,
      "outputs": []
    },
    {
      "cell_type": "code",
      "execution_count": null,
      "metadata": {
        "id": "Qslwui2GKKkN"
      },
      "outputs": [],
      "source": [
        "def confusionMatrix(y_pred, y_test, type_label):\n",
        "  labels = ['no predisposition to alcoholism', 'predisposition to alcoholism']\n",
        "  matrix = confusion_matrix(y_test, y_pred).astype('float')\n",
        "  matrix = matrix / matrix.sum(axis=1)[:, np.newaxis]\n",
        "  df_matrix = pd.DataFrame(matrix, index=labels, columns=labels)\n",
        "\n",
        "  sns.heatmap(df_matrix, annot=True, cbar=False, cmap=\"Greens\")\n",
        "  plt.title(\"Confusion Matrix \" + type_label)\n",
        "  plt.xlabel(\"Predicted\")\n",
        "  plt.ylabel(\"Actual\")\n",
        "  plt.tight_layout()\n",
        "  plt.show()"
      ]
    },
    {
      "cell_type": "code",
      "execution_count": null,
      "metadata": {
        "id": "JBpUCyFieyCM"
      },
      "outputs": [],
      "source": [
        "def getMetrics(y_test, y_pred):\n",
        "  targets = ['no predisposition to alcoholism', 'predisposition to alcoholism']\n",
        "\n",
        "  precision = precision_score(y_test, y_pred, average=None)\n",
        "  f1 = f1_score(y_test, y_pred, average=None)\n",
        "\n",
        "  report = classification_report(y_test, y_pred, target_names=targets)\n",
        "  print(\"My Model Metrics:\")\n",
        "  print(report)\n",
        "\n",
        "  results = {}\n",
        "  for i, name in enumerate(targets):\n",
        "    results[name] = {\n",
        "      \"Precision\": precision[i],\n",
        "      \"F1-Score\": f1[i]\n",
        "    }\n",
        "\n",
        "  return results"
      ]
    },
    {
      "cell_type": "markdown",
      "metadata": {
        "id": "wozixdhQDE1K"
      },
      "source": [
        "#Main Program"
      ]
    },
    {
      "cell_type": "markdown",
      "metadata": {
        "id": "98NUY9aZGazB"
      },
      "source": [
        "##**Extracting features**"
      ]
    },
    {
      "cell_type": "markdown",
      "source": [
        "Normalizamos la data y realizamos tranformadas"
      ],
      "metadata": {
        "id": "fYt_47twRgIz"
      }
    },
    {
      "cell_type": "code",
      "execution_count": null,
      "metadata": {
        "id": "XQuOUUPWBYai"
      },
      "outputs": [],
      "source": [
        "X, Y = readH5File('train.h5')\n",
        "X_test = readH5File('test.h5')\n",
        "X = X.squeeze(axis=1)\n",
        "X_test = X_test.squeeze(axis=1)\n",
        "\n",
        "x_train, x_test, y_train, y_test = train_test_split(X, Y, test_size=0.3, random_state=42)"
      ]
    },
    {
      "cell_type": "code",
      "execution_count": null,
      "metadata": {
        "id": "mj9E2Mdp54vM"
      },
      "outputs": [],
      "source": [
        "scaler = StandardScaler()\n",
        "x_train_normalized = scaler.fit_transform(x_train)\n",
        "x_test_normalized = scaler.fit_transform(x_test)"
      ]
    },
    {
      "cell_type": "markdown",
      "metadata": {
        "id": "tK6XqaeEHian"
      },
      "source": [
        "### **Usamos ROCKET**\n",
        "\n",
        "\n"
      ]
    },
    {
      "cell_type": "markdown",
      "source": [
        "Para aplicar el análisis de ROCKET al conjunto de datos de EEG sobre la predisposición genética al alcoholismo, primero se debe preprocesar los datos y luego aplicar el transformador ROCKET para extraer las características relevantes.\n"
      ],
      "metadata": {
        "id": "-AYW5befSe3-"
      }
    },
    {
      "cell_type": "code",
      "execution_count": null,
      "metadata": {
        "id": "2I1lwC6n435B"
      },
      "outputs": [],
      "source": [
        "rocket = ROCKET()\n",
        "rocket.fit(x_train_normalized)\n",
        "x_train_transformed = rocket.transform(x_train_normalized)\n",
        "x_test_transformed = rocket.transform(x_test_normalized)\n",
        "rocket.fit(x_train_normalized)\n",
        "x_train_transformed = rocket.transform(x_train_normalized)\n"
      ]
    },
    {
      "cell_type": "markdown",
      "source": [
        "Se entrenará un modelo de clasificación con las características extraídas y se evaluará su rendimiento."
      ],
      "metadata": {
        "id": "4FCMPjIWTTLE"
      }
    },
    {
      "cell_type": "code",
      "execution_count": null,
      "metadata": {
        "id": "r-fR-uFq51K4"
      },
      "outputs": [],
      "source": [
        "# Entrenar y predecir con KNN\n",
        "knn = KNN()\n",
        "knn.fit(x_train_transformed, y_train)\n",
        "\n",
        "# Hacer predicciones con KNN\n",
        "k = 5  # Número de vecinos\n",
        "y_pred = np.array([knn.predict(x, k) for x in x_test_transformed])"
      ]
    },
    {
      "cell_type": "markdown",
      "metadata": {
        "id": "fNcD2b4ILNwe"
      },
      "source": [
        "##**Classification Metrics**"
      ]
    },
    {
      "cell_type": "code",
      "execution_count": null,
      "metadata": {
        "colab": {
          "base_uri": "https://localhost:8080/",
          "height": 698
        },
        "id": "tLyZFfeyoKQ_",
        "outputId": "ffbd7093-7461-4d4c-d422-f7fcffc44cea"
      },
      "outputs": [
        {
          "data": {
            "image/png": "[encoded data removed]",
            "text/plain": [
              "<Figure size 640x480 with 1 Axes>"
            ]
          },
          "metadata": {},
          "output_type": "display_data"
        },
        {
          "name": "stdout",
          "output_type": "stream",
          "text": [
            "My Model Metrics:\n",
            "                                 precision    recall  f1-score   support\n",
            "\n",
            "no predisposition to alcoholism       0.77      0.72      0.74        46\n",
            "   predisposition to alcoholism       0.32      0.38      0.34        16\n",
            "\n",
            "                       accuracy                           0.63        62\n",
            "                      macro avg       0.54      0.55      0.54        62\n",
            "                   weighted avg       0.65      0.63      0.64        62\n",
            "\n",
            "{'no predisposition to alcoholism': {'Precision': 0.7674418604651163, 'F1-Score': 0.7415730337078652}, 'predisposition to alcoholism': {'Precision': 0.3157894736842105, 'F1-Score': 0.34285714285714286}}\n"
          ]
        }
      ],
      "source": [
        "confusionMatrix(y_pred, y_test, 'KNN')\n",
        "\n",
        "metrics = getMetrics(y_test, y_pred)\n",
        "print(metrics)"
      ]
    }
  ],
  "metadata": {
    "colab": {
      "provenance": [],
      "collapsed_sections": [
        "O_XimAyURq1W",
        "98NUY9aZGazB",
        "tK6XqaeEHian"
      ]
    },
    "kernelspec": {
      "display_name": "Python 3",
      "name": "python3"
    },
    "language_info": {
      "name": "python"
    }
  },
  "nbformat": 4,
  "nbformat_minor": 0
}